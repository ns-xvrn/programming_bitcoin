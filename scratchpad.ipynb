{
 "cells": [
  {
   "cell_type": "code",
   "execution_count": 1,
   "metadata": {},
   "outputs": [
    {
     "name": "stdout",
     "output_type": "stream",
     "text": [
      "False\n",
      "True\n",
      "True\n"
     ]
    }
   ],
   "source": [
    "# Chapter 1: Finite fields\n",
    "\n",
    "from ecc import FieldElement as FE\n",
    "\n",
    "a = FE(7, 13)\n",
    "b = FE(12, 13)\n",
    "c = FE(6, 13)\n",
    "x = FE(3, 13)\n",
    "y = FE(12, 13)\n",
    "z = FE(10, 13)\n",
    "\n",
    "print(a==b)\n",
    "print(a + b == c)\n",
    "print(x * y == z)"
   ]
  },
  {
   "cell_type": "code",
   "execution_count": 2,
   "metadata": {},
   "outputs": [
    {
     "name": "stdout",
     "output_type": "stream",
     "text": [
      "[0, 1, 2, 3, 4, 5, 6, 7, 8, 9, 10, 11, 12, 13, 14, 15, 16, 17, 18]\n",
      "[0, 1, 2, 3, 4, 5, 6, 7, 8, 9, 10, 11, 12, 13, 14, 15, 16, 17, 18]\n",
      "[0, 1, 2, 3, 4, 5, 6, 7, 8, 9, 10, 11, 12, 13, 14, 15, 16, 17, 18]\n",
      "[0, 1, 2, 3, 4, 5, 6, 7, 8, 9, 10, 11, 12, 13, 14, 15, 16, 17, 18]\n"
     ]
    }
   ],
   "source": [
    "# fields have to be prime to result same set regardless of the value of k\n",
    "prime = 19\n",
    "for k in [1, 2, 3, 4]:\n",
    "    print(sorted([(k * i) % prime for i in range(prime)]))"
   ]
  },
  {
   "cell_type": "code",
   "execution_count": 3,
   "metadata": {},
   "outputs": [
    {
     "name": "stdout",
     "output_type": "stream",
     "text": [
      "FieldElement_31(29)\n",
      "FieldElement_31(29)\n"
     ]
    }
   ],
   "source": [
    "a = FE(17, 31)\n",
    "# a**-3 == FE(29, 31)\n",
    "print(a**-3)\n",
    "print(FE(29,31))"
   ]
  },
  {
   "cell_type": "code",
   "execution_count": 4,
   "metadata": {},
   "outputs": [
    {
     "name": "stdout",
     "output_type": "stream",
     "text": [
      "Point(-1,-1)_5_7\n",
      "Point(-1,1)_5_7\n",
      "Point(infinity)\n",
      "Point(3.0,-7.0)_5_7\n",
      "Point(18.0,-77.0)_5_7\n"
     ]
    }
   ],
   "source": [
    "# Chapter 2: Elliptic curves\n",
    "\n",
    "from ecc import Point\n",
    "\n",
    "p1 = Point(-1, -1, 5, 7)\n",
    "p2 = Point(-1, 1, 5, 7)\n",
    "inf = Point(None, None, 5, 7)\n",
    "print(p1+inf)\n",
    "print(inf+p2)\n",
    "print(p1+p2)\n",
    "\n",
    "print(Point(2,5,5,7)+Point(-1,-1,5,7))\n",
    "print(Point(-1,1,5,7)+Point(-1,1,5,7))"
   ]
  },
  {
   "cell_type": "code",
   "execution_count": 5,
   "metadata": {},
   "outputs": [
    {
     "name": "stdout",
     "output_type": "stream",
     "text": [
      "True\n",
      "False\n",
      "Point(170,142)_0_7 FieldElement(223)\n",
      "Point(infinity)\n"
     ]
    }
   ],
   "source": [
    "# Chapter 3: Elliptic curve cryptography\n",
    "prime = 223\n",
    "a, b = FE(0, prime), FE(7, prime)\n",
    "def on_curve(x,y):\n",
    "    return y**2 == x**3 + a*x + b\n",
    "\n",
    "print(on_curve(FE(192, prime), FE(105, prime)))\n",
    "print(on_curve(FE(200, prime), FE(119, prime)))\n",
    "\n",
    "x1, y1 = FE(192, prime), FE(105, prime)\n",
    "x2, y2 = FE(17, prime), FE(56, prime)\n",
    "p1 = Point(x1, y1, a, b)\n",
    "p2 = Point(x2, y2, a, b)\n",
    "print(p1+p2)\n",
    "\n",
    "# __rmul__:\n",
    "x, y = FE(15, prime), FE(86, prime)\n",
    "p = Point(x, y, a, b)\n",
    "print(7*p)\n"
   ]
  },
  {
   "cell_type": "code",
   "execution_count": 6,
   "metadata": {},
   "outputs": [
    {
     "name": "stdout",
     "output_type": "stream",
     "text": [
      "True\n",
      "True\n"
     ]
    }
   ],
   "source": [
    "from ecc import S256Point, G, N\n",
    "\n",
    "point = S256Point(\n",
    "    0x887387e452b8eacc4acfde10d9aaf7f6d9a0f975aabb10d006e4da568744d06c, \n",
    "    0x61de6d95231cd89026e286df3b6ae4a894a3378e393e93a0f45b666329a0ae34)\n",
    "\n",
    "def verify(z, r, s):\n",
    "    s_inv = pow(s, N-2, N)\n",
    "    u = z * s_inv % N\n",
    "    v = r * s_inv % N\n",
    "    print((u*G+v*point).x.num == r)\n",
    "\n",
    "\n",
    "# signature 1\n",
    "z = 0xec208baa0fc1c19f708a9ca96fdeff3ac3f230bb4a7ba4aede4942ad003c0f60\n",
    "r = 0xac8d1c87e51d0d441be8b3dd5b05c8795b48875dffe00b7ffcfac23010d3a395\n",
    "s = 0x68342ceff8935ededd102dd876ffd6ba72d6a427a3edb13d26eb0781cb423c4\n",
    "\n",
    "verify(z, r, s)\n",
    "\n",
    "# signature 2\n",
    "z = 0x7c076ff316692a3d7eb3c3bb0f8b1488cf72e1afcd929e29307032997a838a3d\n",
    "r = 0xeff69ef2b1bd93a66ed5219add4fb51e11a840f404876325a1e8ffe0529a2c\n",
    "s = 0xc7207fee197d27c618aea621406f6bf5ef6fca38681d82b2f06fddbdce6feab6\n",
    "\n",
    "verify(z, r, s)\n"
   ]
  },
  {
   "cell_type": "code",
   "execution_count": null,
   "metadata": {},
   "outputs": [],
   "source": []
  }
 ],
 "metadata": {
  "kernelspec": {
   "display_name": "Python 3",
   "language": "python",
   "name": "python3"
  },
  "language_info": {
   "codemirror_mode": {
    "name": "ipython",
    "version": 3
   },
   "file_extension": ".py",
   "mimetype": "text/x-python",
   "name": "python",
   "nbconvert_exporter": "python",
   "pygments_lexer": "ipython3",
   "version": "3.10.12"
  },
  "orig_nbformat": 4
 },
 "nbformat": 4,
 "nbformat_minor": 2
}
